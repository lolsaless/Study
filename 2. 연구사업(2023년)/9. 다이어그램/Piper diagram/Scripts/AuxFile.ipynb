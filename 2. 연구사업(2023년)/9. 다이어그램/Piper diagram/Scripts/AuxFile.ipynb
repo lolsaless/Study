{
 "cells": [
  {
   "cell_type": "code",
   "execution_count": null,
   "metadata": {},
   "outputs": [],
   "source": [
    "%matplotlib inline\n",
    "import pandas as pd\n",
    "import numpy as np\n",
    "import os, math\n",
    "import matplotlib.pyplot as plt\n",
    "import imageio"
   ]
  },
  {
   "cell_type": "code",
   "execution_count": null,
   "metadata": {},
   "outputs": [],
   "source": [
    "#nos dirigimos al sitio del formato\n",
    "img = imageio.imread(\"../Figures/PiperCompleto.png\")"
   ]
  },
  {
   "cell_type": "code",
   "execution_count": null,
   "metadata": {},
   "outputs": [],
   "source": [
    "#importamos los datos\n",
    "datosQuimica = pd.read_excel('../Xls/HatariChem_FormatodeTrabajo.xlsx')\n",
    "\n",
    "#quitamos los caracteres que producen error\n",
    "datosQuimica['Estacion'] = datosQuimica['Estacion'].str.replace(\"/\",\"_\")\n",
    "datosQuimica['Estacion'] = datosQuimica['Estacion'].str.replace(\"–\",\"-\")\n",
    "datosQuimica['Estacion'] = datosQuimica['Estacion'].str.replace(\" |%/s\",\"\")\n",
    "datosQuimica = datosQuimica.set_index(['Estacion'])\n",
    "\n",
    "datosQuimica.head()"
   ]
  },
  {
   "cell_type": "code",
   "execution_count": null,
   "metadata": {},
   "outputs": [],
   "source": [
    "#diccionario de iones\n",
    "iones = {\n",
    "'HCO3': 61, 'CO3' : 30, 'Cl' : 35, 'SO4': 48,\n",
    "'Na' : 23, 'Ca' : 20, 'Mg' : 12, 'K'  : 39\n",
    "}\n",
    "\n",
    "#generamos las columnas de concentraciones equivalentes\n",
    "for ion in iones.keys():\n",
    "    datosQuimica[str(ion)+'_meq'] = datosQuimica[ion]/iones[ion]\n",
    "    \n",
    "datosQuimica.head()"
   ]
  },
  {
   "cell_type": "code",
   "execution_count": null,
   "metadata": {},
   "outputs": [],
   "source": [
    "#normalizamos los aniones\n",
    "datosQuimica['SO4_norm'] = datosQuimica['SO4_meq'] / (datosQuimica['SO4_meq'] +\n",
    "                            datosQuimica['HCO3_meq']+datosQuimica['CO3_meq']+datosQuimica['Cl_meq']) * 100\n",
    "datosQuimica['HCO3_CO3_norm'] = (datosQuimica['HCO3_meq']+datosQuimica['CO3_meq']) / (datosQuimica['SO4_meq'] +\n",
    "                            datosQuimica['HCO3_meq']+datosQuimica['CO3_meq']+datosQuimica['Cl_meq']) * 100\n",
    "datosQuimica['Cl_norm'] = datosQuimica['Cl_meq'] / (datosQuimica['SO4_meq'] +\n",
    "                            datosQuimica['HCO3_meq']+datosQuimica['CO3_meq']+datosQuimica['Cl_meq']) * 100\n",
    "\n",
    "#normalizamos los cationes\n",
    "datosQuimica['Mg_norm'] = datosQuimica['Mg_meq'] / (datosQuimica['Mg_meq'] +\n",
    "                            datosQuimica['Ca_meq']+datosQuimica['K_meq']+datosQuimica['Na_meq']) * 100\n",
    "datosQuimica['Na_K_norm'] = (datosQuimica['K_meq']+datosQuimica['Na_meq']) / (datosQuimica['Mg_meq'] +\n",
    "                            datosQuimica['Ca_meq']+datosQuimica['K_meq']+datosQuimica['Na_meq']) * 100\n",
    "datosQuimica['Ca_norm'] = datosQuimica['Ca_meq'] / (datosQuimica['Mg_meq'] +\n",
    "                            datosQuimica['Ca_meq']+datosQuimica['K_meq']+datosQuimica['Na_meq']) * 100\n"
   ]
  },
  {
   "cell_type": "code",
   "execution_count": null,
   "metadata": {},
   "outputs": [],
   "source": [
    "#funcion de las coordenadas\n",
    "def coordenada(Ca,Mg,Cl,SO4,Label):\n",
    "    xcation = 40 + 360 - (Ca + Mg / 2) * 3.6\n",
    "    ycation = 40 + (math.sqrt(3) * Mg / 2)* 3.6\n",
    "    xanion = 40 + 360 + 100 + (Cl + SO4 / 2) * 3.6\n",
    "    yanion = 40 + (SO4 * math.sqrt(3) / 2)* 3.6\n",
    "    xdiam = 0.5 * (xcation + xanion + (yanion - ycation) / math.sqrt(3))\n",
    "    ydiam = 0.5 * (yanion + ycation + math.sqrt(3) * (xanion - xcation))\n",
    "    #print(str(xanion) + ' ' + str(yanion))\n",
    "    c=np.random.rand(3,1).ravel()\n",
    "    listagraph=[]\n",
    "    listagraph.append(plt.scatter(xcation,ycation,zorder=1,c=c, s=60, edgecolors='#4b4b4b',label=Label))\n",
    "    listagraph.append(plt.scatter(xanion,yanion,zorder=1,c=c, s=60, edgecolors='#4b4b4b'))\n",
    "    listagraph.append(plt.scatter(xdiam,ydiam,zorder=1,c=c, s=60, edgecolors='#4b4b4b'))\n",
    "    return listagraph"
   ]
  },
  {
   "cell_type": "code",
   "execution_count": null,
   "metadata": {},
   "outputs": [],
   "source": [
    "plt.figure(figsize=(12,10))\n",
    "plt.imshow(np.flipud(img),zorder=0)\n",
    "for index, row in datosQuimica.iterrows():\n",
    "    coordenada(row['Ca_norm'],row['Mg_norm'],row['Cl_norm'],row['SO4_norm'],index)\n",
    "plt.ylim(0,830)\n",
    "plt.xlim(0,900)\n",
    "plt.axis('off')\n",
    "plt.legend(loc='upper right',prop={'size':10}, frameon=False, scatterpoints=1)\n",
    "\n",
    "plt.savefig('../Output/Piper.png')\n",
    "plt.savefig('../Output/Piper.pdf')\n",
    "plt.savefig('../Output/Piper.svg')"
   ]
  },
  {
   "cell_type": "code",
   "execution_count": null,
   "metadata": {},
   "outputs": [],
   "source": []
  }
 ],
 "metadata": {
  "kernelspec": {
   "display_name": "Python 3",
   "language": "python",
   "name": "python3"
  },
  "language_info": {
   "codemirror_mode": {
    "name": "ipython",
    "version": 3
   },
   "file_extension": ".py",
   "mimetype": "text/x-python",
   "name": "python",
   "nbconvert_exporter": "python",
   "pygments_lexer": "ipython3",
   "version": "3.7.0"
  }
 },
 "nbformat": 4,
 "nbformat_minor": 2
}
