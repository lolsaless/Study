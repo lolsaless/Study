{
  "nbformat": 4,
  "nbformat_minor": 0,
  "metadata": {
    "colab": {
      "provenance": [],
      "collapsed_sections": [
        "MfDu56_-PeIV",
        "iIHGXHpfPWOe"
      ]
    },
    "kernelspec": {
      "name": "python3",
      "display_name": "Python 3"
    },
    "language_info": {
      "name": "python"
    }
  },
  "cells": [
    {
      "cell_type": "markdown",
      "source": [
        "### 1. 데이터 병합, 추출"
      ],
      "metadata": {
        "id": "-7HxT-mmPZ7m"
      }
    },
    {
      "cell_type": "code",
      "source": [
        "import pandas as pd\n",
        "\n",
        "# 데이터를 읽어오기(실험노트, 조회통계 자료 excel통합문서 양식으로 저장한 다음 저장)\n",
        "data_df = pd.read_excel('실험노트.xlsx')\n",
        "result_df = pd.read_excel('조회통계.xlsx')\n",
        "\n",
        "# '접수번호'를 기준으로 데이터 병합\n",
        "merged_df = pd.merge(data_df, result_df, on='접수번호', how='inner')\n",
        "\n",
        "# 병합된 데이터를 Excel 파일로 저장\n",
        "merged_df.to_excel('1.병합 데이터.xlsx', index=False)\n",
        "\n",
        "# 병합 데이터에서 '실내공기질'이 포함된 데이터만 필터링\n",
        "filtered_df = merged_df[merged_df['검체유형_x'].str.contains('실내공기질', na=False)]\n",
        "\n",
        "# 필터링된 데이터 확인\n",
        "print(filtered_df.head())\n",
        "\n",
        "# 대기 제외, 실내공기질만 필터링된 데이터를 Excel 파일로 저장\n",
        "filtered_df.to_excel('2.실내공기질 필터링 데이터.xlsx', index=False)\n",
        "\n",
        "# '시설군' 컬럼 추가 (검체유형_x 열에서 파생)\n",
        "filtered_df['시설군'] = filtered_df['검체유형_x'].str.split('/').str[2]\n",
        "\n",
        "# 지정된 열 선택(필요한 변수만 추출)\n",
        "selected_columns = [\n",
        "    '의뢰기관', '시설군', '배출시설', '시설명', '채취장소_x', '시료명_x',\n",
        "    'PM10', 'PM2.5', 'CO2', '폼알데하이드', '부유세균', '라돈', '라돈(밀폐)', '벤젠', '톨루엔', '에틸벤젠', '자일렌', '스틸렌', '부적합항목', '확인일', '검사결과','접수번호', '접수일자'\n",
        "]\n",
        "\n",
        "# 해당 열만 포함된 새 DataFrame 생성\n",
        "extracted_df = filtered_df[selected_columns]\n",
        "\n",
        "# 필요한 경우, 데이터를 Excel 파일로 저장\n",
        "extracted_df.to_excel('3.추출 데이터.xlsx', index=False)\n",
        "\n",
        "# 데이터 확인\n",
        "print(extracted_df.head())\n"
      ],
      "metadata": {
        "colab": {
          "base_uri": "https://localhost:8080/"
        },
        "id": "JaWGZ4OTbZKq",
        "outputId": "aeedc22f-d7f1-4aba-f4a2-eb84a85cb93b",
        "collapsed": true
      },
      "execution_count": null,
      "outputs": [
        {
          "output_type": "stream",
          "name": "stdout",
          "text": [
            "    번호           접수번호                     채취장소_x  의뢰자_x              검체유형_x  \\\n",
            "16  17  2792400012-01  경기 남양주시 오남읍 진건오남로 지하 929   남양주시장  실내공기질/실내공기질/다중이용시설   \n",
            "17  18  2792400012-02  경기 남양주시 오남읍 진건오남로 지하 929   남양주시장  실내공기질/실내공기질/다중이용시설   \n",
            "18  19  2792400013-01  경기 남양주시 별내3로 지하 345 (별내동)  남양주시장  실내공기질/실내공기질/다중이용시설   \n",
            "19  20  2792400013-02  경기 남양주시 별내3로 지하 345 (별내동)  남양주시장  실내공기질/실내공기질/다중이용시설   \n",
            "20  21  2792400014-01   경기 남양주시 진접읍 경복대로 지하 244   남양주시장  실내공기질/실내공기질/다중이용시설   \n",
            "\n",
            "   시료명_x    접수일 항목수_x  폼알데하이드  PM10  ...                    의뢰주소  전화번호  이동전화  \\\n",
            "16   대합실  02-06   3/3     NaN   NaN  ...  경기 남양주시 경춘로 1037 (금곡동)   NaN   NaN   \n",
            "17   승강장  02-06   3/3     NaN   NaN  ...  경기 남양주시 경춘로 1037 (금곡동)   NaN   NaN   \n",
            "18   승강장  02-06   3/3     NaN   NaN  ...  경기 남양주시 경춘로 1037 (금곡동)   NaN   NaN   \n",
            "19   대합실  02-06   3/3     NaN   NaN  ...  경기 남양주시 경춘로 1037 (금곡동)   NaN   NaN   \n",
            "20   대합실  02-06   3/3     NaN   NaN  ...  경기 남양주시 경춘로 1037 (금곡동)   NaN   NaN   \n",
            "\n",
            "    이메일        채취일자                     채취장소_y  처리기간         처리일 수수료 항목수_y  \n",
            "16  NaN  2024-02-06   경기 남양주시 오남읍 진건오남로 지하 929     6  2024-02-15   0     3  \n",
            "17  NaN  2024-02-06   경기 남양주시 오남읍 진건오남로 지하 929     6  2024-02-15   0     3  \n",
            "18  NaN  2024-02-06  경기 남양주시 별내3로 지하 345 (별내동)     6  2024-02-15   0     3  \n",
            "19  NaN  2024-02-06  경기 남양주시 별내3로 지하 345 (별내동)     6  2024-02-15   0     3  \n",
            "20  NaN  2024-02-06    경기 남양주시 진접읍 경복대로 지하 244     6  2024-02-15   0     3  \n",
            "\n",
            "[5 rows x 91 columns]\n",
            "    의뢰기관     시설군  배출시설            시설명                     채취장소_x 시료명_x  PM10  \\\n",
            "16  남양주시  다중이용시설  지하역사            오남역  경기 남양주시 오남읍 진건오남로 지하 929    대합실   NaN   \n",
            "17  남양주시  다중이용시설  지하역사            오남역  경기 남양주시 오남읍 진건오남로 지하 929    승강장   NaN   \n",
            "18  남양주시  다중이용시설  지하역사         별내별가람역  경기 남양주시 별내3로 지하 345 (별내동)   승강장   NaN   \n",
            "19  남양주시  다중이용시설  지하역사         별내별가람역  경기 남양주시 별내3로 지하 345 (별내동)   대합실   NaN   \n",
            "20  남양주시  다중이용시설  지하역사  남양주시도시공사(진접역)   경기 남양주시 진접읍 경복대로 지하 244    대합실   NaN   \n",
            "\n",
            "    PM2.5  CO2  폼알데하이드  ...   벤젠  톨루엔  에틸벤젠  자일렌  스틸렌 부적합항목         확인일 검사결과  \\\n",
            "16    NaN  NaN     NaN  ...  NaN  NaN   NaN  NaN  NaN   NaN  2024-02-13   적합   \n",
            "17    NaN  NaN     NaN  ...  NaN  NaN   NaN  NaN  NaN   NaN  2024-02-13   적합   \n",
            "18    NaN  NaN     NaN  ...  NaN  NaN   NaN  NaN  NaN   NaN  2024-02-13   적합   \n",
            "19    NaN  NaN     NaN  ...  NaN  NaN   NaN  NaN  NaN   NaN  2024-02-13   적합   \n",
            "20    NaN  NaN     NaN  ...  NaN  NaN   NaN  NaN  NaN   NaN  2024-02-13   적합   \n",
            "\n",
            "             접수번호        접수일자  \n",
            "16  2792400012-01  2024-02-06  \n",
            "17  2792400012-02  2024-02-06  \n",
            "18  2792400013-01  2024-02-06  \n",
            "19  2792400013-02  2024-02-06  \n",
            "20  2792400014-01  2024-02-06  \n",
            "\n",
            "[5 rows x 23 columns]\n"
          ]
        },
        {
          "output_type": "stream",
          "name": "stderr",
          "text": [
            "<ipython-input-1-22b83c4ece2f>:23: SettingWithCopyWarning: \n",
            "A value is trying to be set on a copy of a slice from a DataFrame.\n",
            "Try using .loc[row_indexer,col_indexer] = value instead\n",
            "\n",
            "See the caveats in the documentation: https://pandas.pydata.org/pandas-docs/stable/user_guide/indexing.html#returning-a-view-versus-a-copy\n",
            "  filtered_df['시설군'] = filtered_df['검체유형_x'].str.split('/').str[2]\n"
          ]
        }
      ]
    },
    {
      "cell_type": "markdown",
      "source": [
        "### 2. 기존신축공동주택 추출"
      ],
      "metadata": {
        "id": "ePPOG3_URpCt"
      }
    },
    {
      "cell_type": "code",
      "source": [
        "import pandas as pd\n",
        "\n",
        "# 엑셀 파일 로드\n",
        "file_path = '3.추출 데이터.xlsx'\n",
        "df = pd.read_excel(file_path, sheet_name='Sheet1')\n",
        "\n",
        "# 열 이름 변경\n",
        "rename_columns = {\n",
        "    '의뢰기관': '시군명',\n",
        "    '배출시설': '세부시설군',\n",
        "    '채취장소_x': '주소',\n",
        "    'PM10': '미세먼지(PM10)',\n",
        "    'PM2.5': '초미세먼지(PM2.5)',\n",
        "    'CO2': '이산화탄소',\n",
        "    '부유세균': '총부유세균'\n",
        "}\n",
        "\n",
        "# '시설군'에서 '기존공동주택'과 '신축공동주택'만 필터링\n",
        "filtered_df = df[df['시설군'].isin(['기존공동주택', '신축공동주택'])]\n",
        "\n",
        "# 열 순서 정의 및 데이터 정렬\n",
        "desired_column_order = [\n",
        "    '시군명', '시설군', '시설명', '세부시설군', '주소', '검사결과', '부적합항목', '접수일자',\n",
        "    '확인일', '접수번호_10자리', '접수번호', '채취지점', '미세먼지(PM10)', '초미세먼지(PM2.5)',\n",
        "    '이산화탄소', '폼알데하이드', '총부유세균', '라돈', '라돈(밀폐)', '벤젠', '톨루엔',\n",
        "    '에틸벤젠', '자일렌', '스틸렌'\n",
        "]\n",
        "\n",
        "# 실제 데이터에 존재하는 열만 선택하도록 처리\n",
        "filtered_df = filtered_df[[col for col in desired_column_order if col in filtered_df.columns]]\n",
        "\n",
        "# 필터링된 데이터 출력 또는 저장\n",
        "filtered_df.to_excel('4.기존신축공동주택 데이터.xlsx', index=False)\n",
        "\n",
        "print(filtered_df)"
      ],
      "metadata": {
        "colab": {
          "base_uri": "https://localhost:8080/"
        },
        "id": "s6HZ6UyJR3bV",
        "outputId": "64179245-a683-4e69-8b02-70e59a5b73e5",
        "collapsed": true
      },
      "execution_count": null,
      "outputs": [
        {
          "output_type": "stream",
          "name": "stdout",
          "text": [
            "        시설군                   시설명     검사결과 부적합항목        접수일자         확인일  \\\n",
            "28   신축공동주택  구리갈매 자족1 지식산업센터(기숙사)  상기실험확인함   NaN  2024-02-20  2024-03-04   \n",
            "29   신축공동주택  구리갈매 자족1 지식산업센터(기숙사)  상기실험확인함   NaN  2024-02-20  2024-03-04   \n",
            "30   신축공동주택  구리갈매 자족1 지식산업센터(기숙사)  상기실험확인함   NaN  2024-02-20  2024-03-04   \n",
            "31   신축공동주택  구리갈매 자족1 지식산업센터(기숙사)  상기실험확인함   NaN  2024-02-20  2024-03-04   \n",
            "32   신축공동주택  구리갈매 자족1 지식산업센터(기숙사)  상기실험확인함   NaN  2024-02-20  2024-03-04   \n",
            "..      ...                   ...      ...   ...         ...         ...   \n",
            "315  기존공동주택               가좌마을7단지       적합   NaN  2024-08-19  2024-09-02   \n",
            "316  기존공동주택            밤가시8단지건영빌라       적합   NaN  2024-08-19  2024-09-02   \n",
            "317  기존공동주택            밤가시8단지건영빌라       적합   NaN  2024-08-19  2024-09-02   \n",
            "318  기존공동주택               강선두진아파트       적합   NaN  2024-08-19  2024-09-02   \n",
            "319  기존공동주택               강선두진아파트       적합   NaN  2024-08-19  2024-09-02   \n",
            "\n",
            "              접수번호  폼알데하이드    라돈  라돈(밀폐)   벤젠    톨루엔  에틸벤젠    자일렌  스틸렌  \n",
            "28   2792400029-01    11.1   NaN   137.0  불검출  214.5   6.5   42.3  불검출  \n",
            "29   2792400029-02    16.0   NaN    50.0  불검출  521.3  24.9   81.1  불검출  \n",
            "30   2792400029-03    11.6   NaN   135.0  불검출  197.4  18.2   60.2  불검출  \n",
            "31   2792400029-04    14.8   NaN   111.0  불검출  446.3  23.2  100.4  불검출  \n",
            "32   2792400029-05    11.8   NaN    41.7  불검출  207.2   7.7   51.6  불검출  \n",
            "..             ...     ...   ...     ...  ...    ...   ...    ...  ...  \n",
            "315  2792400261-04     NaN  51.1     NaN  NaN    NaN   NaN    NaN  NaN  \n",
            "316  2792400262-01     NaN  50.4     NaN  NaN    NaN   NaN    NaN  NaN  \n",
            "317  2792400262-02     NaN  20.6     NaN  NaN    NaN   NaN    NaN  NaN  \n",
            "318  2792400263-01     NaN  29.2     NaN  NaN    NaN   NaN    NaN  NaN  \n",
            "319  2792400263-02     NaN  96.8     NaN  NaN    NaN   NaN    NaN  NaN  \n",
            "\n",
            "[84 rows x 15 columns]\n"
          ]
        }
      ]
    },
    {
      "cell_type": "markdown",
      "source": [
        "### 3. 다중이용시설 데이터 처리\n"
      ],
      "metadata": {
        "id": "vi1cWoSANWOk"
      }
    },
    {
      "cell_type": "code",
      "source": [
        "import pandas as pd\n",
        "\n",
        "# 데이터 파일 로드\n",
        "file_path = '3.추출 데이터.xlsx'\n",
        "data = pd.read_excel(file_path)\n",
        "\n",
        "# 열 이름 변경\n",
        "rename_columns = {\n",
        "    '의뢰기관': '시군명',\n",
        "    '배출시설': '세부시설군',\n",
        "    '채취장소_x': '주소',\n",
        "    'PM10': '미세먼지(PM10)',\n",
        "    'PM2.5': '초미세먼지(PM2.5)',\n",
        "    'CO2': '이산화탄소',\n",
        "    '부유세균': '총부유세균'\n",
        "}\n",
        "data.rename(columns=rename_columns, inplace=True)\n",
        "\n",
        "# 접수번호의 앞 10자리를 기준으로 새로운 열 생성\n",
        "data['접수번호_10자리'] = data['접수번호'].str[:10]\n",
        "\n",
        "# 수치 데이터의 평균 계산 (접수번호의 앞 10자리를 기준으로)\n",
        "numeric_columns = ['미세먼지(PM10)', '초미세먼지(PM2.5)', '이산화탄소', '폼알데하이드', '총부유세균', '라돈']\n",
        "data_avg = data.groupby(['시설명', '접수번호_10자리']).agg({col: 'mean' for col in numeric_columns if col in data.columns}).reset_index()\n",
        "\n",
        "# 시료명 데이터 결합 및 채취지점 생성\n",
        "data['채취지점'] = data.groupby('시설명')['시료명_x'].transform(lambda x: ', '.join(x.unique()))\n",
        "\n",
        "# 채취지점 데이터와 합치기\n",
        "columns_to_drop = numeric_columns + ['미세먼지(PM10_1)', '초미세먼지(PM2.5_1)', '미세먼지(PM10_2)', '초미세먼지(PM2.5_2)', 'CO2', '이산화탄소']\n",
        "columns_to_drop = [col for col in columns_to_drop if col in data.columns]  # 실제 존재하는 열만 제거\n",
        "data_merged = data_avg.merge(data.drop(columns=columns_to_drop).drop_duplicates(['시설명', '접수번호_10자리']), on=['시설명', '접수번호_10자리'])\n",
        "\n",
        "# 불필요한 시료명_x 열 제거\n",
        "if '시료명_x' in data_merged.columns:\n",
        "    data_merged.drop(columns='시료명_x', inplace=True)\n",
        "\n",
        "# 1. 검사결과가 '적합'이면 부적합항목을 빈칸으로 설정\n",
        "data_merged.loc[data_merged['검사결과'] == '적합', '부적합항목'] = \"\"\n",
        "\n",
        "# 2. '시설군'에서 '기존공동주택', '신축공동주택' 제거\n",
        "data_filtered = data_merged[~data_merged['시설군'].isin(['기존공동주택', '신축공동주택'])]\n",
        "\n",
        "# 열 순서 정의 및 데이터 정렬\n",
        "desired_column_order = [\n",
        "    '시군명', '시설군', '시설명', '세부시설군', '주소', '검사결과', '부적합항목', '접수일자',\n",
        "    '확인일', '접수번호_10자리', '접수번호', '채취지점', '미세먼지(PM10)', '초미세먼지(PM2.5)',\n",
        "    '이산화탄소', '폼알데하이드', '총부유세균', '라돈', '라돈(밀폐)', '벤젠', '톨루엔',\n",
        "    '에틸벤젠', '자일렌', '스틸렌'\n",
        "]\n",
        "\n",
        "# 열 순서 변경 및 데이터 정렬\n",
        "data_sorted = data_filtered[desired_column_order].sort_values(by=['시군명', '시설군', '세부시설군', '시설명', '주소', '채취지점'])\n",
        "\n",
        "# 결과 파일로 저장 (xlsx 파일로 저장)\n",
        "output_path = '5.다중이용시설 데이터.xlsx'\n",
        "data_sorted.to_excel(output_path, index=False)"
      ],
      "metadata": {
        "id": "tbzbRtT9NdB8"
      },
      "execution_count": null,
      "outputs": []
    },
    {
      "cell_type": "markdown",
      "source": [
        "### 4. 데이터 통합(다중이용시설, 기존신축공동주택)"
      ],
      "metadata": {
        "id": "38U-8XlqsRGo"
      }
    },
    {
      "cell_type": "code",
      "source": [
        "import pandas as pd\n",
        "from openpyxl import load_workbook\n",
        "from openpyxl.utils import get_column_letter\n",
        "from openpyxl.styles import Font\n",
        "\n",
        "# 두 개의 엑셀 파일 로드\n",
        "file_1 = '4.기존신축공동주택 데이터.xlsx'\n",
        "file_2 = '5.다중이용시설 데이터.xlsx'\n",
        "\n",
        "# 각 파일의 데이터를 불러옴\n",
        "df1 = pd.read_excel(file_1)\n",
        "df2 = pd.read_excel(file_2)\n",
        "\n",
        "# 1. 숫자 데이터를 올바른 형식으로 변환\n",
        "def convert_numeric_with_preservation(df, columns):\n",
        "    for col in columns:\n",
        "        df[col] = pd.to_numeric(df[col], errors='coerce').combine_first(df[col])  # 숫자로 변환 가능한 값은 숫자로 변환, 나머지는 그대로 유지\n",
        "    return df\n",
        "\n",
        "# 변환할 열 리스트\n",
        "columns_to_convert = ['벤젠', '톨루엔', '에틸벤젠', '자일렌', '스틸렌']\n",
        "\n",
        "# 기존신축공동주택 시트 데이터에 변환 적용\n",
        "df1 = convert_numeric_with_preservation(df1, columns_to_convert)\n",
        "\n",
        "# 2. 확인일 변수를 날짜 형식으로 변환하고, 시간 제거 및 데이터프레임을 오름차순으로 정렬\n",
        "def sort_by_date(df, date_column):\n",
        "    # '확인일'을 날짜 형식으로 변환 (시간 제거)\n",
        "    df[date_column] = pd.to_datetime(df[date_column], errors='coerce').dt.date  # 날짜만 남기고 시간 제거\n",
        "    df = df.sort_values(by=date_column, ascending=True)  # 오름차순 정렬\n",
        "    return df\n",
        "\n",
        "# 확인일 기준 정렬 적용\n",
        "df1 = sort_by_date(df1, '확인일')\n",
        "df2 = sort_by_date(df2, '확인일')\n",
        "\n",
        "# 3. 다중이용시설 데이터에서 \"접수번호\" 변수 제거\n",
        "if '접수번호' in df2.columns:\n",
        "    df2 = df2.drop(columns=['접수번호'])\n",
        "\n",
        "# 결과를 하나의 엑셀 파일로 저장 (두 개의 시트에 각각 저장)\n",
        "output_file = '6.통합 데이터.xlsx'\n",
        "with pd.ExcelWriter(output_file, engine='openpyxl') as writer:\n",
        "    df2.to_excel(writer, sheet_name='다중이용시설', index=False)  # 결과를 시트1에 저장\n",
        "    df1.to_excel(writer, sheet_name='기존신축공동주택', index=False)  # 기존, 신축공동주택 데이터를 시트2에 저장\n",
        "\n",
        "# 저장된 엑셀 파일을 다시 불러옴\n",
        "wb = load_workbook(output_file)\n",
        "\n",
        "# 각 시트에 대해 서식 지정\n",
        "for sheet in wb.sheetnames:\n",
        "    ws = wb[sheet]\n",
        "\n",
        "    # 글자 크기를 10으로 설정\n",
        "    for row in ws.iter_rows():\n",
        "        for cell in row:\n",
        "            cell.font = Font(size=10)\n",
        "\n",
        "    # 모든 열의 너비를 11로 고정\n",
        "    for col in ws.columns:\n",
        "        column = col[0].column_letter  # 열 이름 가져오기 (A, B, C...)\n",
        "        ws.column_dimensions[column].width = 11  # 열 너비 고정\n",
        "\n",
        "# 파일 저장\n",
        "wb.save(output_file)\n",
        "\n",
        "print(\"엑셀 파일이 서식과 함께 '6.통합 데이터.xlsx'로 저장되었습니다.\")"
      ],
      "metadata": {
        "colab": {
          "base_uri": "https://localhost:8080/"
        },
        "id": "R2NmCdWdTxhH",
        "outputId": "0773ef06-bc3a-40ae-c97e-6f390424d8f9"
      },
      "execution_count": null,
      "outputs": [
        {
          "output_type": "stream",
          "name": "stdout",
          "text": [
            "엑셀 파일이 서식과 함께 '6.통합 데이터.xlsx'로 저장되었습니다.\n"
          ]
        }
      ]
    }
  ]
}